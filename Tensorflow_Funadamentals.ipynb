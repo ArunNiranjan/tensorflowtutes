{
  "nbformat": 4,
  "nbformat_minor": 0,
  "metadata": {
    "colab": {
      "name": "Tensorflow Funadamentals.ipynb",
      "provenance": [],
      "collapsed_sections": [],
      "authorship_tag": "ABX9TyOalMxOTc2poNUgmEXQsFW6",
      "include_colab_link": true
    },
    "kernelspec": {
      "name": "python3",
      "display_name": "Python 3"
    },
    "language_info": {
      "name": "python"
    }
  },
  "cells": [
    {
      "cell_type": "markdown",
      "metadata": {
        "id": "view-in-github",
        "colab_type": "text"
      },
      "source": [
        "<a href=\"https://colab.research.google.com/github/ArunNiranjan/tensorflowtutes/blob/main/Tensorflow_Funadamentals.ipynb\" target=\"_parent\"><img src=\"https://colab.research.google.com/assets/colab-badge.svg\" alt=\"Open In Colab\"/></a>"
      ]
    },
    {
      "cell_type": "code",
      "execution_count": 2,
      "metadata": {
        "id": "gEuzmqkBIqLb"
      },
      "outputs": [],
      "source": [
        "import tensorflow as tf"
      ]
    },
    {
      "cell_type": "code",
      "source": [
        "print(tf.__version__)"
      ],
      "metadata": {
        "colab": {
          "base_uri": "https://localhost:8080/"
        },
        "id": "QH5N5JrpItp3",
        "outputId": "7892453f-300c-44e4-e2e3-0cb40659bdfd"
      },
      "execution_count": 3,
      "outputs": [
        {
          "output_type": "stream",
          "name": "stdout",
          "text": [
            "2.8.2\n"
          ]
        }
      ]
    },
    {
      "cell_type": "code",
      "source": [
        "tf1 = tf.constant([1,2,3,4])"
      ],
      "metadata": {
        "id": "1s4arldrI38M"
      },
      "execution_count": 4,
      "outputs": []
    },
    {
      "cell_type": "code",
      "source": [
        "tf1"
      ],
      "metadata": {
        "colab": {
          "base_uri": "https://localhost:8080/"
        },
        "id": "NKSykOIfJC5r",
        "outputId": "b0e67ee5-fa23-4874-db3b-d0b11fdd1619"
      },
      "execution_count": 5,
      "outputs": [
        {
          "output_type": "execute_result",
          "data": {
            "text/plain": [
              "<tf.Tensor: shape=(4,), dtype=int32, numpy=array([1, 2, 3, 4], dtype=int32)>"
            ]
          },
          "metadata": {},
          "execution_count": 5
        }
      ]
    },
    {
      "cell_type": "code",
      "source": [
        "tf2 = tf.Variable([5,6,7,8])"
      ],
      "metadata": {
        "id": "d3EOySllJDxi"
      },
      "execution_count": 6,
      "outputs": []
    },
    {
      "cell_type": "code",
      "source": [
        "tf2"
      ],
      "metadata": {
        "colab": {
          "base_uri": "https://localhost:8080/"
        },
        "id": "UAi6CytTJSTf",
        "outputId": "10ae214f-a1a1-45e7-8587-290a5eca2772"
      },
      "execution_count": 7,
      "outputs": [
        {
          "output_type": "execute_result",
          "data": {
            "text/plain": [
              "<tf.Variable 'Variable:0' shape=(4,) dtype=int32, numpy=array([5, 6, 7, 8], dtype=int32)>"
            ]
          },
          "metadata": {},
          "execution_count": 7
        }
      ]
    },
    {
      "cell_type": "code",
      "source": [
        "tf2[0].assign(10)"
      ],
      "metadata": {
        "colab": {
          "base_uri": "https://localhost:8080/"
        },
        "id": "a3vSQu6bJY5i",
        "outputId": "588a7019-7f37-466c-f21b-81523bfbb9da"
      },
      "execution_count": 8,
      "outputs": [
        {
          "output_type": "execute_result",
          "data": {
            "text/plain": [
              "<tf.Variable 'UnreadVariable' shape=(4,) dtype=int32, numpy=array([10,  6,  7,  8], dtype=int32)>"
            ]
          },
          "metadata": {},
          "execution_count": 8
        }
      ]
    },
    {
      "cell_type": "code",
      "source": [
        "tf2"
      ],
      "metadata": {
        "colab": {
          "base_uri": "https://localhost:8080/"
        },
        "id": "sqx6a-q0JksN",
        "outputId": "2c53319d-d515-448a-f67d-fbafcc440d72"
      },
      "execution_count": 9,
      "outputs": [
        {
          "output_type": "execute_result",
          "data": {
            "text/plain": [
              "<tf.Variable 'Variable:0' shape=(4,) dtype=int32, numpy=array([10,  6,  7,  8], dtype=int32)>"
            ]
          },
          "metadata": {},
          "execution_count": 9
        }
      ]
    },
    {
      "cell_type": "code",
      "source": [
        "# tf1[0].assign(11)\n",
        "#we cant assign values to unchangeble tensor"
      ],
      "metadata": {
        "id": "OnMShEBEJmZy"
      },
      "execution_count": 10,
      "outputs": []
    },
    {
      "cell_type": "code",
      "source": [
        "tf3 = tf.constant([[1,2],[3,4]])\n",
        "tf3\n"
      ],
      "metadata": {
        "colab": {
          "base_uri": "https://localhost:8080/"
        },
        "id": "Q7_fIamdKDVB",
        "outputId": "c6de25fc-334b-4d14-b73b-83ee585d8e3f"
      },
      "execution_count": 11,
      "outputs": [
        {
          "output_type": "execute_result",
          "data": {
            "text/plain": [
              "<tf.Tensor: shape=(2, 2), dtype=int32, numpy=\n",
              "array([[1, 2],\n",
              "       [3, 4]], dtype=int32)>"
            ]
          },
          "metadata": {},
          "execution_count": 11
        }
      ]
    },
    {
      "cell_type": "code",
      "source": [
        "tf4 = tf.constant([[[1,2,3],[4,5,6]],[[8,9,10],[11,12,13]]])\n",
        "tf4"
      ],
      "metadata": {
        "colab": {
          "base_uri": "https://localhost:8080/"
        },
        "id": "ceNmi5FmKd3X",
        "outputId": "797c8b08-e4cd-4240-d3aa-ba2d3845113d"
      },
      "execution_count": 12,
      "outputs": [
        {
          "output_type": "execute_result",
          "data": {
            "text/plain": [
              "<tf.Tensor: shape=(2, 2, 3), dtype=int32, numpy=\n",
              "array([[[ 1,  2,  3],\n",
              "        [ 4,  5,  6]],\n",
              "\n",
              "       [[ 8,  9, 10],\n",
              "        [11, 12, 13]]], dtype=int32)>"
            ]
          },
          "metadata": {},
          "execution_count": 12
        }
      ]
    },
    {
      "cell_type": "code",
      "source": [
        "print('Number of dimension', tf4.ndim)\n",
        "print('Shape of matrix',tf4.shape)\n",
        "print('number of elements', tf.size(tf4))"
      ],
      "metadata": {
        "colab": {
          "base_uri": "https://localhost:8080/"
        },
        "id": "fnS5PbrxKfND",
        "outputId": "070b19b1-2d1f-4e38-fd50-ad7417935b61"
      },
      "execution_count": 13,
      "outputs": [
        {
          "output_type": "stream",
          "name": "stdout",
          "text": [
            "Number of dimension 3\n",
            "Shape of matrix (2, 2, 3)\n",
            "number of elements tf.Tensor(12, shape=(), dtype=int32)\n"
          ]
        }
      ]
    },
    {
      "cell_type": "code",
      "source": [
        "tf4.shape[0]"
      ],
      "metadata": {
        "colab": {
          "base_uri": "https://localhost:8080/"
        },
        "id": "qOesSqe1LKIh",
        "outputId": "52c5c4e4-5964-478f-b9ee-8ef0a5682881"
      },
      "execution_count": 14,
      "outputs": [
        {
          "output_type": "execute_result",
          "data": {
            "text/plain": [
              "2"
            ]
          },
          "metadata": {},
          "execution_count": 14
        }
      ]
    },
    {
      "cell_type": "code",
      "source": [
        "tf4.shape[-1]"
      ],
      "metadata": {
        "colab": {
          "base_uri": "https://localhost:8080/"
        },
        "id": "8A7k2VEzMLBm",
        "outputId": "82d61913-4b21-4a19-8615-31a77bc39fbe"
      },
      "execution_count": 15,
      "outputs": [
        {
          "output_type": "execute_result",
          "data": {
            "text/plain": [
              "3"
            ]
          },
          "metadata": {},
          "execution_count": 15
        }
      ]
    },
    {
      "cell_type": "code",
      "source": [
        "tf4[:2,:2,:2]"
      ],
      "metadata": {
        "colab": {
          "base_uri": "https://localhost:8080/"
        },
        "id": "P-VKQRoAMN4G",
        "outputId": "f12e1d61-13a8-4458-8173-db7c0d6a01bd"
      },
      "execution_count": 16,
      "outputs": [
        {
          "output_type": "execute_result",
          "data": {
            "text/plain": [
              "<tf.Tensor: shape=(2, 2, 2), dtype=int32, numpy=\n",
              "array([[[ 1,  2],\n",
              "        [ 4,  5]],\n",
              "\n",
              "       [[ 8,  9],\n",
              "        [11, 12]]], dtype=int32)>"
            ]
          },
          "metadata": {},
          "execution_count": 16
        }
      ]
    },
    {
      "cell_type": "code",
      "source": [
        "tf4[:1,:2,:2]"
      ],
      "metadata": {
        "colab": {
          "base_uri": "https://localhost:8080/"
        },
        "id": "hS4YrhZxMhDv",
        "outputId": "db44e739-dda0-48aa-f545-b51ba3e441d5"
      },
      "execution_count": 17,
      "outputs": [
        {
          "output_type": "execute_result",
          "data": {
            "text/plain": [
              "<tf.Tensor: shape=(1, 2, 2), dtype=int32, numpy=\n",
              "array([[[1, 2],\n",
              "        [4, 5]]], dtype=int32)>"
            ]
          },
          "metadata": {},
          "execution_count": 17
        }
      ]
    },
    {
      "cell_type": "code",
      "source": [
        "import numpy as np"
      ],
      "metadata": {
        "id": "SogPyJPYMvVk"
      },
      "execution_count": 18,
      "outputs": []
    },
    {
      "cell_type": "code",
      "source": [
        "num_array = np.arange(1,20, dtype= int)\n",
        "num_array"
      ],
      "metadata": {
        "colab": {
          "base_uri": "https://localhost:8080/"
        },
        "id": "LxxtXxBjM24B",
        "outputId": "d464ac9c-dc89-4554-ee77-8dd7a0229753"
      },
      "execution_count": 19,
      "outputs": [
        {
          "output_type": "execute_result",
          "data": {
            "text/plain": [
              "array([ 1,  2,  3,  4,  5,  6,  7,  8,  9, 10, 11, 12, 13, 14, 15, 16, 17,\n",
              "       18, 19])"
            ]
          },
          "metadata": {},
          "execution_count": 19
        }
      ]
    },
    {
      "cell_type": "code",
      "source": [
        "tf_new = tf.constant(num_array)"
      ],
      "metadata": {
        "id": "5STnJeEpNBPs"
      },
      "execution_count": 20,
      "outputs": []
    },
    {
      "cell_type": "code",
      "source": [
        "tf_new"
      ],
      "metadata": {
        "colab": {
          "base_uri": "https://localhost:8080/"
        },
        "id": "MG6T-TxzNNdo",
        "outputId": "6947c308-05bf-42e4-c29e-7d7710e999ee"
      },
      "execution_count": 21,
      "outputs": [
        {
          "output_type": "execute_result",
          "data": {
            "text/plain": [
              "<tf.Tensor: shape=(19,), dtype=int64, numpy=\n",
              "array([ 1,  2,  3,  4,  5,  6,  7,  8,  9, 10, 11, 12, 13, 14, 15, 16, 17,\n",
              "       18, 19])>"
            ]
          },
          "metadata": {},
          "execution_count": 21
        }
      ]
    },
    {
      "cell_type": "code",
      "source": [
        "tf5 = tf.random.Generator.from_seed(15)\n",
        "tf5 = tf5.normal(shape = (3,3))\n",
        "tf5"
      ],
      "metadata": {
        "colab": {
          "base_uri": "https://localhost:8080/"
        },
        "id": "shu6rogpNO62",
        "outputId": "432cd849-0dc4-410c-ca60-e4c8114f5ce4"
      },
      "execution_count": 22,
      "outputs": [
        {
          "output_type": "execute_result",
          "data": {
            "text/plain": [
              "<tf.Tensor: shape=(3, 3), dtype=float32, numpy=\n",
              "array([[ 0.33149973, -0.5445254 ,  1.5222508 ],\n",
              "       [ 0.59303206, -0.63509274,  0.3703566 ],\n",
              "       [-1.0939722 , -0.4601445 ,  1.5420506 ]], dtype=float32)>"
            ]
          },
          "metadata": {},
          "execution_count": 22
        }
      ]
    },
    {
      "cell_type": "code",
      "source": [
        "tf.random.set_seed(43)\n",
        "tf.random.shuffle(tf5, seed = 43)"
      ],
      "metadata": {
        "colab": {
          "base_uri": "https://localhost:8080/"
        },
        "id": "NBDr5xiTNlXS",
        "outputId": "33d4b760-d2dd-4b2f-8a60-e90bd3359034"
      },
      "execution_count": 23,
      "outputs": [
        {
          "output_type": "execute_result",
          "data": {
            "text/plain": [
              "<tf.Tensor: shape=(3, 3), dtype=float32, numpy=\n",
              "array([[ 0.33149973, -0.5445254 ,  1.5222508 ],\n",
              "       [-1.0939722 , -0.4601445 ,  1.5420506 ],\n",
              "       [ 0.59303206, -0.63509274,  0.3703566 ]], dtype=float32)>"
            ]
          },
          "metadata": {},
          "execution_count": 23
        }
      ]
    },
    {
      "cell_type": "code",
      "source": [
        "tf6 = tf.constant([[1,2,3],[4,5,6]])\n",
        "tf7 = tf.constant([[5,6],[7,8],[9,10]])\n",
        "tf6, tf7"
      ],
      "metadata": {
        "colab": {
          "base_uri": "https://localhost:8080/"
        },
        "id": "o13ixQQ3PD2m",
        "outputId": "1cee4bf1-7fc7-4970-f455-e00a2c505f0b"
      },
      "execution_count": 24,
      "outputs": [
        {
          "output_type": "execute_result",
          "data": {
            "text/plain": [
              "(<tf.Tensor: shape=(2, 3), dtype=int32, numpy=\n",
              " array([[1, 2, 3],\n",
              "        [4, 5, 6]], dtype=int32)>,\n",
              " <tf.Tensor: shape=(3, 2), dtype=int32, numpy=\n",
              " array([[ 5,  6],\n",
              "        [ 7,  8],\n",
              "        [ 9, 10]], dtype=int32)>)"
            ]
          },
          "metadata": {},
          "execution_count": 24
        }
      ]
    },
    {
      "cell_type": "code",
      "source": [
        "tf.matmul(tf6,tf7)"
      ],
      "metadata": {
        "colab": {
          "base_uri": "https://localhost:8080/"
        },
        "id": "8kxh5lXQPfyd",
        "outputId": "a6018332-258f-48e4-f61b-90a92ab6ddb8"
      },
      "execution_count": 25,
      "outputs": [
        {
          "output_type": "execute_result",
          "data": {
            "text/plain": [
              "<tf.Tensor: shape=(2, 2), dtype=int32, numpy=\n",
              "array([[ 46,  52],\n",
              "       [109, 124]], dtype=int32)>"
            ]
          },
          "metadata": {},
          "execution_count": 25
        }
      ]
    },
    {
      "cell_type": "code",
      "source": [
        "## We need to use tf.transpose to Transpose the matrix, if the mutrix shape is inconvienet for matrix multiplication"
      ],
      "metadata": {
        "id": "twS3nMUoPoYw"
      },
      "execution_count": 26,
      "outputs": []
    },
    {
      "cell_type": "code",
      "source": [
        "tf.transpose(tf7)"
      ],
      "metadata": {
        "colab": {
          "base_uri": "https://localhost:8080/"
        },
        "id": "KR5zxvh5QeuJ",
        "outputId": "b01255d0-ebe1-4461-8146-4cb6669a523e"
      },
      "execution_count": 27,
      "outputs": [
        {
          "output_type": "execute_result",
          "data": {
            "text/plain": [
              "<tf.Tensor: shape=(2, 3), dtype=int32, numpy=\n",
              "array([[ 5,  7,  9],\n",
              "       [ 6,  8, 10]], dtype=int32)>"
            ]
          },
          "metadata": {},
          "execution_count": 27
        }
      ]
    },
    {
      "cell_type": "code",
      "source": [
        "tf.reshape(tf7, shape = (2,3))"
      ],
      "metadata": {
        "colab": {
          "base_uri": "https://localhost:8080/"
        },
        "id": "HcrwsCIbQjPl",
        "outputId": "6bd22833-194d-43f0-9583-2c0df70cb424"
      },
      "execution_count": 28,
      "outputs": [
        {
          "output_type": "execute_result",
          "data": {
            "text/plain": [
              "<tf.Tensor: shape=(2, 3), dtype=int32, numpy=\n",
              "array([[ 5,  6,  7],\n",
              "       [ 8,  9, 10]], dtype=int32)>"
            ]
          },
          "metadata": {},
          "execution_count": 28
        }
      ]
    },
    {
      "cell_type": "code",
      "source": [
        "# There is different value when we tried with reshape method so need to use tf.transpose method"
      ],
      "metadata": {
        "id": "YkAyipVAQz4u"
      },
      "execution_count": 29,
      "outputs": []
    },
    {
      "cell_type": "code",
      "source": [
        "tf8 = tf.constant([3.2, 4.5, 7.7])"
      ],
      "metadata": {
        "id": "jo_VWNBZRH7D"
      },
      "execution_count": 30,
      "outputs": []
    },
    {
      "cell_type": "code",
      "source": [
        "tf8"
      ],
      "metadata": {
        "colab": {
          "base_uri": "https://localhost:8080/"
        },
        "id": "uGundQt_UPeG",
        "outputId": "17d7aab0-be1b-4c4d-89de-52653429a5c4"
      },
      "execution_count": 31,
      "outputs": [
        {
          "output_type": "execute_result",
          "data": {
            "text/plain": [
              "<tf.Tensor: shape=(3,), dtype=float32, numpy=array([3.2, 4.5, 7.7], dtype=float32)>"
            ]
          },
          "metadata": {},
          "execution_count": 31
        }
      ]
    },
    {
      "cell_type": "code",
      "source": [
        "tf.cast(tf8, dtype = np.float16)"
      ],
      "metadata": {
        "colab": {
          "base_uri": "https://localhost:8080/"
        },
        "id": "8yP4mCCIURiy",
        "outputId": "0ce3a8d3-9ea6-412a-e37b-ea0b4e68d2e5"
      },
      "execution_count": 32,
      "outputs": [
        {
          "output_type": "execute_result",
          "data": {
            "text/plain": [
              "<tf.Tensor: shape=(3,), dtype=float16, numpy=array([3.2, 4.5, 7.7], dtype=float16)>"
            ]
          },
          "metadata": {},
          "execution_count": 32
        }
      ]
    },
    {
      "cell_type": "code",
      "source": [
        "#Aggregation functions"
      ],
      "metadata": {
        "id": "fax3uqR3Ube0"
      },
      "execution_count": 33,
      "outputs": []
    },
    {
      "cell_type": "code",
      "source": [
        "tf9 = tf.constant(np.random.randint(0,100, size = 50))"
      ],
      "metadata": {
        "id": "h7bYeYviUtis"
      },
      "execution_count": 34,
      "outputs": []
    },
    {
      "cell_type": "code",
      "source": [
        "tf9"
      ],
      "metadata": {
        "colab": {
          "base_uri": "https://localhost:8080/"
        },
        "id": "678S086DU3jE",
        "outputId": "46a62f15-6428-4cc9-8c5b-9a8ca6d4e786"
      },
      "execution_count": 35,
      "outputs": [
        {
          "output_type": "execute_result",
          "data": {
            "text/plain": [
              "<tf.Tensor: shape=(50,), dtype=int64, numpy=\n",
              "array([69, 14, 98, 64, 50, 65, 46, 28, 56,  7, 41, 74, 36, 78,  9, 91, 68,\n",
              "       80, 31,  7, 42, 84, 59,  5, 41, 17, 65, 71, 15, 30, 18,  8, 27, 69,\n",
              "       12, 75, 94, 53, 16, 92, 28, 61, 70,  2, 36, 42, 58, 26, 39, 78])>"
            ]
          },
          "metadata": {},
          "execution_count": 35
        }
      ]
    },
    {
      "cell_type": "code",
      "source": [
        "tf9.ndim, tf9.shape, tf.size(tf9)"
      ],
      "metadata": {
        "colab": {
          "base_uri": "https://localhost:8080/"
        },
        "id": "1u1V24PrVFI8",
        "outputId": "4c917d1e-6c50-49d7-812e-e4aebd1c9486"
      },
      "execution_count": 36,
      "outputs": [
        {
          "output_type": "execute_result",
          "data": {
            "text/plain": [
              "(1, TensorShape([50]), <tf.Tensor: shape=(), dtype=int32, numpy=50>)"
            ]
          },
          "metadata": {},
          "execution_count": 36
        }
      ]
    },
    {
      "cell_type": "code",
      "source": [
        "tf.reduce_min(tf9)"
      ],
      "metadata": {
        "colab": {
          "base_uri": "https://localhost:8080/"
        },
        "id": "FJcBBj9EVMJl",
        "outputId": "9c213a5a-8525-4e0a-a69e-ce5304f86505"
      },
      "execution_count": 37,
      "outputs": [
        {
          "output_type": "execute_result",
          "data": {
            "text/plain": [
              "<tf.Tensor: shape=(), dtype=int64, numpy=2>"
            ]
          },
          "metadata": {},
          "execution_count": 37
        }
      ]
    },
    {
      "cell_type": "code",
      "source": [
        "tf.reduce_max(tf9)"
      ],
      "metadata": {
        "colab": {
          "base_uri": "https://localhost:8080/"
        },
        "id": "Gqy0ji0XVlPJ",
        "outputId": "1091d918-3c1c-4386-bcb1-be030759e936"
      },
      "execution_count": 38,
      "outputs": [
        {
          "output_type": "execute_result",
          "data": {
            "text/plain": [
              "<tf.Tensor: shape=(), dtype=int64, numpy=98>"
            ]
          },
          "metadata": {},
          "execution_count": 38
        }
      ]
    },
    {
      "cell_type": "code",
      "source": [
        "tf.reduce_mean(tf9)"
      ],
      "metadata": {
        "colab": {
          "base_uri": "https://localhost:8080/"
        },
        "id": "rxNulvqwVwVz",
        "outputId": "42e516f2-741a-40bb-c409-bf718084abda"
      },
      "execution_count": 39,
      "outputs": [
        {
          "output_type": "execute_result",
          "data": {
            "text/plain": [
              "<tf.Tensor: shape=(), dtype=int64, numpy=46>"
            ]
          },
          "metadata": {},
          "execution_count": 39
        }
      ]
    },
    {
      "cell_type": "code",
      "source": [
        "tf.reduce_sum(tf9)"
      ],
      "metadata": {
        "colab": {
          "base_uri": "https://localhost:8080/"
        },
        "id": "AoWQB6rGV62D",
        "outputId": "5de24776-f649-4a9d-ec44-45d9410fcafe"
      },
      "execution_count": 40,
      "outputs": [
        {
          "output_type": "execute_result",
          "data": {
            "text/plain": [
              "<tf.Tensor: shape=(), dtype=int64, numpy=2345>"
            ]
          },
          "metadata": {},
          "execution_count": 40
        }
      ]
    },
    {
      "cell_type": "code",
      "source": [
        "tf.math.reduce_std(tf.cast(tf9, dtype = float))"
      ],
      "metadata": {
        "colab": {
          "base_uri": "https://localhost:8080/"
        },
        "id": "8MBj6RZqV_Co",
        "outputId": "fb310865-9691-4776-99f7-0ec327fad98b"
      },
      "execution_count": 41,
      "outputs": [
        {
          "output_type": "execute_result",
          "data": {
            "text/plain": [
              "<tf.Tensor: shape=(), dtype=float32, numpy=27.288277>"
            ]
          },
          "metadata": {},
          "execution_count": 41
        }
      ]
    },
    {
      "cell_type": "code",
      "source": [
        "tf.math.reduce_variance(tf.cast(tf9, dtype = float))"
      ],
      "metadata": {
        "colab": {
          "base_uri": "https://localhost:8080/"
        },
        "id": "3e-cS0HcXUbI",
        "outputId": "a815bbf1-2bf0-4b9b-84cb-a981192ca52b"
      },
      "execution_count": 42,
      "outputs": [
        {
          "output_type": "execute_result",
          "data": {
            "text/plain": [
              "<tf.Tensor: shape=(), dtype=float32, numpy=744.6501>"
            ]
          },
          "metadata": {},
          "execution_count": 42
        }
      ]
    },
    {
      "cell_type": "code",
      "source": [
        "# Find positional min and max"
      ],
      "metadata": {
        "id": "kdUjO8_sXpHX"
      },
      "execution_count": 43,
      "outputs": []
    },
    {
      "cell_type": "code",
      "source": [
        "## Tensorflow Fundamentals Exercise"
      ],
      "metadata": {
        "id": "7lidMovqXypy"
      },
      "execution_count": 1,
      "outputs": []
    },
    {
      "cell_type": "code",
      "source": [
        "tf_1 = tf.constant([1,2,3])"
      ],
      "metadata": {
        "id": "jmP0DIGF4ov8"
      },
      "execution_count": 44,
      "outputs": []
    },
    {
      "cell_type": "code",
      "source": [
        "tf_2 = tf.constant([[1,2,3],[4,5,6]])"
      ],
      "metadata": {
        "id": "ZbqyxGhy446e"
      },
      "execution_count": 45,
      "outputs": []
    },
    {
      "cell_type": "code",
      "source": [
        "tf_2.shape, tf_2.ndim, tf.size(tf_2)"
      ],
      "metadata": {
        "colab": {
          "base_uri": "https://localhost:8080/"
        },
        "id": "09GJqkfm5Cne",
        "outputId": "2bccb9fa-ae7d-4824-d30e-204c2d967b10"
      },
      "execution_count": 52,
      "outputs": [
        {
          "output_type": "execute_result",
          "data": {
            "text/plain": [
              "(TensorShape([2, 3]), 2, <tf.Tensor: shape=(), dtype=int32, numpy=6>)"
            ]
          },
          "metadata": {},
          "execution_count": 52
        }
      ]
    },
    {
      "cell_type": "code",
      "source": [
        "tf_3 = tf.random.Generator.from_seed(42)\n",
        "tf_3 = tf_3.normal(shape = (5,300))"
      ],
      "metadata": {
        "id": "AwJ2i-_b5Ru9"
      },
      "execution_count": 54,
      "outputs": []
    },
    {
      "cell_type": "code",
      "source": [
        "tf_4 = tf.random.Generator.from_seed(38)\n",
        "tf_4 = tf_4.normal(shape = (5,300))"
      ],
      "metadata": {
        "id": "y-Ye5Gfe7YLt"
      },
      "execution_count": 56,
      "outputs": []
    },
    {
      "cell_type": "code",
      "source": [
        "tf_3"
      ],
      "metadata": {
        "colab": {
          "base_uri": "https://localhost:8080/"
        },
        "id": "kC-O3JRq7LTc",
        "outputId": "cbda419d-936d-4cbb-f147-a16e9a924399"
      },
      "execution_count": 55,
      "outputs": [
        {
          "output_type": "execute_result",
          "data": {
            "text/plain": [
              "<tf.Tensor: shape=(5, 300), dtype=float32, numpy=\n",
              "array([[-0.7565803 , -0.06854702,  0.07595026, ..., -1.071834  ,\n",
              "        -1.0722276 , -0.00586287],\n",
              "       [-0.88051033, -0.32426047, -2.4847078 , ...,  0.16512105,\n",
              "         1.155565  , -0.10707551],\n",
              "       [-1.5306779 , -0.86202925, -0.16359143, ...,  0.34288085,\n",
              "         1.216793  , -1.24293   ],\n",
              "       [ 0.84324265, -0.23379943,  0.4276398 , ..., -1.0428714 ,\n",
              "        -0.73970354,  0.0177109 ],\n",
              "       [ 0.04888754, -0.66408694, -1.787366  , ...,  0.1947453 ,\n",
              "         0.5656089 ,  0.18439196]], dtype=float32)>"
            ]
          },
          "metadata": {},
          "execution_count": 55
        }
      ]
    },
    {
      "cell_type": "code",
      "source": [
        "tf_4_transposed = tf.transpose(tf_4)"
      ],
      "metadata": {
        "id": "9SKgaOEe7PwZ"
      },
      "execution_count": 59,
      "outputs": []
    },
    {
      "cell_type": "code",
      "source": [
        "tf_3.shape, tf_4_transposed.shape"
      ],
      "metadata": {
        "colab": {
          "base_uri": "https://localhost:8080/"
        },
        "id": "3fzNkQDM7lOF",
        "outputId": "b3432837-3820-4089-8252-1d21cfa7dc53"
      },
      "execution_count": 61,
      "outputs": [
        {
          "output_type": "execute_result",
          "data": {
            "text/plain": [
              "(TensorShape([5, 300]), TensorShape([300, 5]))"
            ]
          },
          "metadata": {},
          "execution_count": 61
        }
      ]
    },
    {
      "cell_type": "code",
      "source": [
        "tf.matmul(tf_3, tf_4_transposed)"
      ],
      "metadata": {
        "colab": {
          "base_uri": "https://localhost:8080/"
        },
        "id": "3d5XgI3O750w",
        "outputId": "97e30b3f-8e3e-4113-878d-02d19b4bcd92"
      },
      "execution_count": 62,
      "outputs": [
        {
          "output_type": "execute_result",
          "data": {
            "text/plain": [
              "<tf.Tensor: shape=(5, 5), dtype=float32, numpy=\n",
              "array([[ -7.0561275,  24.473665 , -35.8183   , -17.41225  , -12.622992 ],\n",
              "       [ -9.957701 , -28.559114 ,  39.03465  , -19.910313 , -23.325115 ],\n",
              "       [ -5.0240793,  40.843716 , -28.540802 ,  -6.970851 ,  23.484581 ],\n",
              "       [  7.267663 ,  18.51926  ,  -8.787794 ,  16.000908 ,  -5.6527424],\n",
              "       [ 17.789812 ,  19.030727 ,   5.5636053,  31.378265 ,  12.695045 ]],\n",
              "      dtype=float32)>"
            ]
          },
          "metadata": {},
          "execution_count": 62
        }
      ]
    },
    {
      "cell_type": "code",
      "source": [
        "tf_5 = tf.random.Generator.from_seed(42)\n",
        "tf_5 = tf_5.normal(shape = (224,224,3))"
      ],
      "metadata": {
        "id": "DQyVKSSX8I9E"
      },
      "execution_count": 63,
      "outputs": []
    },
    {
      "cell_type": "code",
      "source": [
        "tf.reduce_min(tf_5)"
      ],
      "metadata": {
        "colab": {
          "base_uri": "https://localhost:8080/"
        },
        "id": "3aDrxGGW8ed1",
        "outputId": "bbebcba4-7ca7-4dce-8134-c785dbed41f9"
      },
      "execution_count": 66,
      "outputs": [
        {
          "output_type": "execute_result",
          "data": {
            "text/plain": [
              "<tf.Tensor: shape=(), dtype=float32, numpy=-4.848316>"
            ]
          },
          "metadata": {},
          "execution_count": 66
        }
      ]
    },
    {
      "cell_type": "code",
      "source": [
        "tf.reduce_max(tf_5), tf.reduce_mean(tf_5)"
      ],
      "metadata": {
        "colab": {
          "base_uri": "https://localhost:8080/"
        },
        "id": "1Oq003508i2d",
        "outputId": "637a76f6-5ba6-4b1c-92e9-ced0680f5f85"
      },
      "execution_count": 68,
      "outputs": [
        {
          "output_type": "execute_result",
          "data": {
            "text/plain": [
              "(<tf.Tensor: shape=(), dtype=float32, numpy=4.4032865>,\n",
              " <tf.Tensor: shape=(), dtype=float32, numpy=-0.0044118334>)"
            ]
          },
          "metadata": {},
          "execution_count": 68
        }
      ]
    },
    {
      "cell_type": "code",
      "source": [
        "tf_6 = tf.random.Generator.from_seed(42)\n",
        "tf_6 = tf_6.normal(shape = (1,1,4,3))"
      ],
      "metadata": {
        "id": "ShgTx_JU837o"
      },
      "execution_count": 70,
      "outputs": []
    },
    {
      "cell_type": "code",
      "source": [
        "tf_new = tf.squeeze(tf_6)"
      ],
      "metadata": {
        "id": "S01fmdK39E_i"
      },
      "execution_count": 72,
      "outputs": []
    },
    {
      "cell_type": "code",
      "source": [
        "tf_new"
      ],
      "metadata": {
        "colab": {
          "base_uri": "https://localhost:8080/"
        },
        "id": "p_Wsf4iC9tT8",
        "outputId": "80fff6d4-d045-4f0c-ef8f-8079dd786caa"
      },
      "execution_count": 73,
      "outputs": [
        {
          "output_type": "execute_result",
          "data": {
            "text/plain": [
              "<tf.Tensor: shape=(4, 3), dtype=float32, numpy=\n",
              "array([[-0.7565803 , -0.06854702,  0.07595026],\n",
              "       [-1.2573844 , -0.23193763, -1.8107855 ],\n",
              "       [ 0.09988727, -0.50998646, -0.7535805 ],\n",
              "       [-0.57166284,  0.1480774 , -0.23362993]], dtype=float32)>"
            ]
          },
          "metadata": {},
          "execution_count": 73
        }
      ]
    },
    {
      "cell_type": "code",
      "source": [
        "tf.math.argmax(tf_new,1)"
      ],
      "metadata": {
        "colab": {
          "base_uri": "https://localhost:8080/"
        },
        "id": "8t7Ik6rQ95eN",
        "outputId": "a1dd2a1d-f0b2-45a1-a53d-0deb0c8fd618"
      },
      "execution_count": 79,
      "outputs": [
        {
          "output_type": "execute_result",
          "data": {
            "text/plain": [
              "<tf.Tensor: shape=(4,), dtype=int64, numpy=array([2, 1, 0, 1])>"
            ]
          },
          "metadata": {},
          "execution_count": 79
        }
      ]
    },
    {
      "cell_type": "code",
      "source": [
        ""
      ],
      "metadata": {
        "id": "ZvlHRlhP99SZ"
      },
      "execution_count": null,
      "outputs": []
    }
  ]
}